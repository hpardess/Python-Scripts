{
 "cells": [
  {
   "cell_type": "code",
   "execution_count": 1,
   "metadata": {},
   "outputs": [],
   "source": [
    "import pandas as pd\n",
    "import numpy as np"
   ]
  },
  {
   "cell_type": "code",
   "execution_count": 2,
   "metadata": {},
   "outputs": [
    {
     "name": "stderr",
     "output_type": "stream",
     "text": [
      "/Users/dream/anaconda3/lib/python3.7/site-packages/IPython/core/interactiveshell.py:3057: DtypeWarning: Columns (7,8,10,11,12,13,14,15,16,17,18,20,21,22,23,27,28,29,30,31,35,36,37,38,39,43,44,45,46,47,48,49,50,51,52,53,54,55,56,57,58,59,60,61,62,63,64,65,66,67,68,69,71,72,73,74,75,76,77,78,79,80,81,82,83,84,85,86,87,88,89,90,91,92,93,94,95,96,97,98,99,100,102,103,104,105,106,107,108,109,111,112,113,114,115,116,117,119,120,121,122,123,128,129,130,131,132,133,137,138,139,140,141,142,143) have mixed types. Specify dtype option on import or set low_memory=False.\n",
      "  interactivity=interactivity, compiler=compiler, result=result)\n"
     ]
    },
    {
     "name": "stdout",
     "output_type": "stream",
     "text": [
      "6720329\n"
     ]
    }
   ],
   "source": [
    "csv_df = pd.read_csv(\"AFGHANHL - Copy.csv\", delimiter=';')\n",
    "print(len(csv_df))"
   ]
  },
  {
   "cell_type": "code",
   "execution_count": 3,
   "metadata": {},
   "outputs": [
    {
     "data": {
      "text/plain": [
       "Index(['PROVINCE', 'DISTRICT', 'VILL_CITY', 'SUBVILL_NAHIA', 'BLOCK', 'URBRUR',\n",
       "       'SAM_HOUSE', 'MAP_NO', 'MAP_3', 'MAP_ALPHA',\n",
       "       ...\n",
       "       'BLD_LAT', 'BLD_LONG', 'BLD_ALT', 'HOUSE_UNIT', 'HOUSEHOLD_NO',\n",
       "       'PERSONS', 'MALES', 'FEMALES', 'MALES_18', 'FEMALES_18'],\n",
       "      dtype='object', length=144)"
      ]
     },
     "execution_count": 3,
     "metadata": {},
     "output_type": "execute_result"
    }
   ],
   "source": [
    "csv_df.columns"
   ]
  },
  {
   "cell_type": "code",
   "execution_count": 4,
   "metadata": {},
   "outputs": [
    {
     "name": "stdout",
     "output_type": "stream",
     "text": [
      "PROVINCE\n",
      "DISTRICT\n",
      "VILL_CITY\n",
      "SUBVILL_NAHIA\n",
      "BLOCK\n",
      "URBRUR\n",
      "SAM_HOUSE\n",
      "MAP_NO\n",
      "MAP_3\n",
      "MAP_ALPHA\n",
      "MAP_1\n",
      "PART_NO\n",
      "LATITUDE\n",
      "LONGITUDE\n",
      "ALTITUDE\n",
      "FREQ_BUS\n",
      "FREQ_TAXI\n",
      "FREQ_CAR\n",
      "FREQ_4WD\n",
      "FREQ_CART\n",
      "DIST_BUS\n",
      "DIST_TAXI\n",
      "DIST_CAR\n",
      "DIST_4WD\n",
      "DIST_CART\n",
      "DIST_BIKE\n",
      "DIST_ANIMAL\n",
      "DIST_FOOT\n",
      "HOURS_BUS\n",
      "HOURS_TAXI\n",
      "HOURS_CAR\n",
      "HOURS_4WD\n",
      "HOURS_CART\n",
      "HOURS_BIKE\n",
      "HOURS_ANIMAL\n",
      "HOURS_FOOT\n",
      "MINUTES_BUS\n",
      "MINUTES_TAXI\n",
      "MINUTES_CAR\n",
      "MINUTES_4WD\n",
      "MINUTES_CART\n",
      "MINUTES_BIKE\n",
      "MINUTES_ANIMAL\n",
      "MINUTES_FOOT\n",
      "HOUSE_LOCATION\n",
      "LANGUAGE\n",
      "TOPOGRAPHY\n",
      "SHORT_DISTANCE\n",
      "ROAD\n",
      "RADIO\n",
      "TV\n",
      "INCIDENTS\n",
      "LIT_COURSE\n",
      "RURAL_SCH\n",
      "PRIM_SCH\n",
      "SECON_SCH\n",
      "HIGH_SCH\n",
      "HEALTH_CENTER\n",
      "DISPENSARY\n",
      "DRUG_STORE\n",
      "POST_OFFICE\n",
      "PUBLIC_PHONE\n",
      "MILL\n",
      "MAJOR_PROD\n",
      "WHEAT\n",
      "COTTON\n",
      "GRAPE\n",
      "POTATO\n",
      "LICORICE\n",
      "CARPET\n",
      "HONEY\n",
      "EGGS\n",
      "CORN\n",
      "SUGAR_EXT\n",
      "POMEGRANATE\n",
      "ONION\n",
      "CARAY\n",
      "RUG\n",
      "SILK\n",
      "MILK\n",
      "RICE\n",
      "SUGAR_CANE\n",
      "MELLON\n",
      "TOMATO\n",
      "ASAFEETIDA\n",
      "EMBROIDERY\n",
      "KARAKUL_SKIN\n",
      "YOGURT\n",
      "MAIZE\n",
      "SESAME\n",
      "ORANGE\n",
      "CAROT\n",
      "ZERK\n",
      "POTTERY\n",
      "DRIED_SUGAR\n",
      "WHEY\n",
      "BEANS\n",
      "TOBACCO\n",
      "ALMOND\n",
      "CAULIFLOWER\n",
      "ANISEED\n",
      "PELISSE\n",
      "CONFECTION\n",
      "DRIED_YOGH\n",
      "VETCH\n",
      "OLIVE\n",
      "WALNUT\n",
      "SPINACH\n",
      "HYSSOP\n",
      "JEWELRY\n",
      "CANDY\n",
      "BUTTER\n",
      "PEAS\n",
      "SHARSHAM\n",
      "MULBERRY\n",
      "LEEK\n",
      "CHICORY\n",
      "SHAWLS\n",
      "SUGAR_SWEET\n",
      "WOOL\n",
      "CROPS_OTH\n",
      "IND_OTH\n",
      "FRUIT_OTH\n",
      "VEG_OTH\n",
      "HERBS_OTH\n",
      "HAND_OTH\n",
      "SMALL_OTH\n",
      "ANIMAL_OTH\n",
      "WATER\n",
      "NOMAD_RESIDE\n",
      "PRE_BLD\n",
      "PRE_HHOLD\n",
      "BUILDING_NO\n",
      "BUILDING_TYPE\n",
      "BLD_LAT\n",
      "BLD_LONG\n",
      "BLD_ALT\n",
      "HOUSE_UNIT\n",
      "HOUSEHOLD_NO\n",
      "PERSONS\n",
      "MALES\n",
      "FEMALES\n",
      "MALES_18\n",
      "FEMALES_18\n"
     ]
    }
   ],
   "source": [
    "for col in csv_df.columns: \n",
    "    print(col)"
   ]
  },
  {
   "cell_type": "code",
   "execution_count": 5,
   "metadata": {},
   "outputs": [
    {
     "name": "stdout",
     "output_type": "stream",
     "text": [
      "1\n",
      "2\n",
      "3\n",
      "4\n",
      "5\n",
      "6\n",
      "7\n",
      "8\n",
      "9\n",
      "10\n",
      "11\n",
      "12\n",
      "13\n",
      "14\n",
      "15\n",
      "16\n",
      "17\n",
      "18\n",
      "19\n",
      "20\n",
      "21\n",
      "22\n",
      "23\n",
      "24\n",
      "25\n",
      "26\n",
      "27\n",
      "28\n",
      "29\n",
      "30\n",
      "31\n",
      "32\n",
      "33\n",
      "34\n"
     ]
    }
   ],
   "source": [
    "for province, province_df in csv_df.groupby('PROVINCE'):\n",
    "    print(province)\n",
    "#     province_df.to_excel('data/' + str(province) + '.xlsx');\n",
    "    province_df.to_csv('data/' + str(province) + '.csv', sep=';', encoding='utf-8');"
   ]
  },
  {
   "cell_type": "code",
   "execution_count": null,
   "metadata": {},
   "outputs": [],
   "source": []
  }
 ],
 "metadata": {
  "kernelspec": {
   "display_name": "Python 3",
   "language": "python",
   "name": "python3"
  },
  "language_info": {
   "codemirror_mode": {
    "name": "ipython",
    "version": 3
   },
   "file_extension": ".py",
   "mimetype": "text/x-python",
   "name": "python",
   "nbconvert_exporter": "python",
   "pygments_lexer": "ipython3",
   "version": "3.7.3"
  }
 },
 "nbformat": 4,
 "nbformat_minor": 2
}
